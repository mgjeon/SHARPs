{
 "cells": [
  {
   "cell_type": "markdown",
   "id": "f82f0193-8002-4584-a7cf-67e4cfca2e15",
   "metadata": {},
   "source": [
    "## Units for the MEANGB\\* keywords"
   ]
  },
  {
   "cell_type": "markdown",
   "id": "a2ee54d2-f91f-4459-9cf1-2de63f9f3e31",
   "metadata": {},
   "source": [
    "The MEANGB\\* keywords are in units of Gauss/pixel, not Gauss/Mm. To convert from Gauss/pixel to Gauss/Mm, multiply the values of MEANGB\\* by a constant factor of 2.74.\n",
    "\n",
    "This notebook describes the problem and derives the solution for converting these keys from Gauss/pixel to Gauss/Mm. "
   ]
  },
  {
   "cell_type": "code",
   "execution_count": 1,
   "id": "3daad82f-66a0-4740-a158-952a7e4cb99d",
   "metadata": {},
   "outputs": [],
   "source": [
    "import sunpy.map\n",
    "import scipy.ndimage\n",
    "import numpy as np\n",
    "import math\n",
    "import drms\n",
    "from datetime import datetime as dt_obj\n",
    "import matplotlib.pylab as plt"
   ]
  },
  {
   "cell_type": "code",
   "execution_count": 2,
   "id": "bf5d2325-4794-44dd-98db-a02196b75544",
   "metadata": {},
   "outputs": [],
   "source": [
    "# define some constants\n",
    "radsindeg = np.pi/180.\n",
    "munaught  = 0.0000012566370614"
   ]
  },
  {
   "cell_type": "markdown",
   "id": "edf268df-a463-4e59-b1c4-f8a9715fec03",
   "metadata": {},
   "source": [
    "To query the SHARP data, register your e-mail address with [JSOC](http://jsoc.stanford.edu/ajax/register_email.html)."
   ]
  },
  {
   "cell_type": "code",
   "execution_count": 4,
   "id": "f323d7da-d8e8-4731-945e-ae1077d8120d",
   "metadata": {},
   "outputs": [],
   "source": [
    "email = 'mgjeon@khu.ac.kr'\n",
    "c = drms.Client(email=email)"
   ]
  },
  {
   "cell_type": "markdown",
   "id": "aeeaee7e-bb52-4e1f-ba4f-f51ac99a14bc",
   "metadata": {},
   "source": [
    "The MEANGB\\* keywords store the value of the derivative of the horizontal field (MEANGBH), vertical field (MEANGBZ), line-of-sight field (MEANGBL), and total field (MEANGBT). \n",
    "\n",
    "The formula to calculate the deriviative is $\\sqrt{\\left(\\frac{dB}{dx}\\right)^2 + \\left(\\frac{dB}{dy}\\right)^2}$."
   ]
  },
  {
   "cell_type": "markdown",
   "id": "b9ee15be-fd15-4656-aec0-f50b8b75c34f",
   "metadata": {},
   "source": [
    "The units of the magnetic field, or dB, are in Gauss. The units of length, i.e. dx or dy, are in pixels. Therefore the units of dB/dx or dB/dy in Gauss/pixel. The keys MEANGB\\* in the series hmi.sharp_720s and hmi.sharp_cea_720s are in Gauss/pixel.\n",
    "\n",
    "To convert from Gauss/pixel to Gauss/Mm, multiply the value of MEANGB\\* by a factor of (Gauss/pix)(pix/arcsec)(arsec/meter)(meter/Mm), which results in Gauss/Mm. Practically, this means multiplying the value of MEANGB\\* by the following factor: (1/cdelt1_arcsec)(RSUN_OBS/RSUN_REF)(1000000), where 1/cdelt1_arcsec is the angle subtended on the Sun in arcseconds as observed by the spacecraft (see [here](https://github.com/mbobra/SHARPs/blob/master/cdelt1_arcsec.pdf) for a derivation of 1/cdelt1_arcsec). This value of this factor is 2.74."
   ]
  },
  {
   "cell_type": "markdown",
   "id": "7df0a268-8e68-4256-95fd-ff33dc7ed703",
   "metadata": {},
   "source": [
    "First, we will look at a specific example for HARPNUM 86 at 2010.07.14_12:24:00 TAI."
   ]
  },
  {
   "cell_type": "code",
   "execution_count": 5,
   "id": "98ea37e9-6550-4b2c-bdf9-9d09d4bb9019",
   "metadata": {},
   "outputs": [],
   "source": [
    "# Identify a record\n",
    "t_rec = '2010.07.14_12:24:00_TAI'\n",
    "harpnum = '86'"
   ]
  },
  {
   "cell_type": "code",
   "execution_count": 26,
   "id": "8a1bfd2f-99de-4e8c-9b4b-7eee0c27ab05",
   "metadata": {},
   "outputs": [],
   "source": [
    "# Query the data\n",
    "hmi_query_string    = 'hmi.sharp_cea_720s['+harpnum+']['+t_rec+'][? (QUALITY<65536) ?]'\n",
    "keyhmi             = c.query(hmi_query_string, key='CDELT1, RSUN_REF, RSUN_OBS, DSUN_OBS')"
   ]
  },
  {
   "cell_type": "code",
   "execution_count": 27,
   "id": "d0a8c259",
   "metadata": {},
   "outputs": [
    {
     "data": {
      "text/html": [
       "<div>\n",
       "<style scoped>\n",
       "    .dataframe tbody tr th:only-of-type {\n",
       "        vertical-align: middle;\n",
       "    }\n",
       "\n",
       "    .dataframe tbody tr th {\n",
       "        vertical-align: top;\n",
       "    }\n",
       "\n",
       "    .dataframe thead th {\n",
       "        text-align: right;\n",
       "    }\n",
       "</style>\n",
       "<table border=\"1\" class=\"dataframe\">\n",
       "  <thead>\n",
       "    <tr style=\"text-align: right;\">\n",
       "      <th></th>\n",
       "      <th>CDELT1</th>\n",
       "      <th>RSUN_REF</th>\n",
       "      <th>RSUN_OBS</th>\n",
       "      <th>DSUN_OBS</th>\n",
       "    </tr>\n",
       "  </thead>\n",
       "  <tbody>\n",
       "    <tr>\n",
       "      <th>0</th>\n",
       "      <td>0.03</td>\n",
       "      <td>696000000</td>\n",
       "      <td>944.013672</td>\n",
       "      <td>1.520749e+11</td>\n",
       "    </tr>\n",
       "  </tbody>\n",
       "</table>\n",
       "</div>"
      ],
      "text/plain": [
       "   CDELT1   RSUN_REF    RSUN_OBS      DSUN_OBS\n",
       "0    0.03  696000000  944.013672  1.520749e+11"
      ]
     },
     "execution_count": 27,
     "metadata": {},
     "output_type": "execute_result"
    }
   ],
   "source": [
    "keyhmi"
   ]
  },
  {
   "cell_type": "code",
   "execution_count": 28,
   "id": "63d0f0d3-5b9a-43c5-b05b-123242a36dbc",
   "metadata": {},
   "outputs": [
    {
     "data": {
      "text/plain": [
       "0.49428262675999274"
      ]
     },
     "execution_count": 28,
     "metadata": {},
     "output_type": "execute_result"
    }
   ],
   "source": [
    "# Calculate cdelt_1 arcsec using the keyword metadata from this record\n",
    "cdelt1_arcsec = (math.atan((keyhmi['RSUN_REF'][0]*keyhmi['CDELT1'][0]*radsindeg)/(keyhmi['DSUN_OBS'][0])))*(1/radsindeg)*(3600.)\n",
    "cdelt1_arcsec"
   ]
  },
  {
   "cell_type": "code",
   "execution_count": 29,
   "id": "b0afc91c-482b-46d6-b50a-c896f5232512",
   "metadata": {},
   "outputs": [],
   "source": [
    "# Calculate the factor using the keyword metadata from this record\n",
    "factor = (1/cdelt1_arcsec)*(keyhmi['RSUN_OBS'][0]/keyhmi['RSUN_REF'][0])*(1000000)"
   ]
  },
  {
   "cell_type": "code",
   "execution_count": 30,
   "id": "94eaed9e-9f0e-4e9f-b83e-a5221b1e04cb",
   "metadata": {},
   "outputs": [
    {
     "name": "stdout",
     "output_type": "stream",
     "text": [
      "For this record, we need to multiply the values of MEANGB* by a factor of 2.7440606028364725 .\n"
     ]
    }
   ],
   "source": [
    "print(\"For this record, we need to multiply the values of MEANGB* by a factor of\",factor,\".\")"
   ]
  },
  {
   "cell_type": "markdown",
   "id": "d647453b-e749-4459-a31d-f02a5888ab69",
   "metadata": {},
   "source": [
    "While this factor includes variable keywords, the variability cancels out to create a constant factor. The rest of this notebook will show why this factor is a constant.\n",
    "\n",
    "Calculating this factor depends on the value of four keywords in the hmi.sharp_cea_720s series:\n",
    "* `RSUN_REF`, a constant keyword that describes the reference radius of the Sun. The value of `RSUN_REF` is always 696,000,000.0 m.\n",
    "* `CDELT1`, a constant keyword that describes the map scale in the X direction (`CDELT2` describes the map scale in the Y direction, and both have the same value). The value of `CDELT1` is always 0.03 degrees for data in the hmi.sharp_cea_720s series.\n",
    "* `RSUN_OBS`, a variable keyword that describes the angular radius of the Sun in arcseconds.\n",
    "* `DSUN_OBS`, a variable keyword that describes the distance from SDO to the center of the Sun in meters.\n",
    "\n",
    "Now we will look at the maximum and minimum values of `RSUN_OBS` and `DSUN_OBS` and how they change over time."
   ]
  },
  {
   "cell_type": "code",
   "execution_count": 31,
   "id": "0e46d8bf-3c56-4d4f-b339-55561d65d64a",
   "metadata": {},
   "outputs": [],
   "source": [
    "hmi_query_string    = 'hmi.sharp_cea_720s[][2019.01.01/800d@7h]'\n",
    "keyshmi             = c.query(hmi_query_string, key='T_REC, CDELT1, RSUN_OBS, DSUN_OBS, MEANGBL')"
   ]
  },
  {
   "cell_type": "code",
   "execution_count": 32,
   "id": "2f6b95f3",
   "metadata": {},
   "outputs": [
    {
     "data": {
      "text/html": [
       "<div>\n",
       "<style scoped>\n",
       "    .dataframe tbody tr th:only-of-type {\n",
       "        vertical-align: middle;\n",
       "    }\n",
       "\n",
       "    .dataframe tbody tr th {\n",
       "        vertical-align: top;\n",
       "    }\n",
       "\n",
       "    .dataframe thead th {\n",
       "        text-align: right;\n",
       "    }\n",
       "</style>\n",
       "<table border=\"1\" class=\"dataframe\">\n",
       "  <thead>\n",
       "    <tr style=\"text-align: right;\">\n",
       "      <th></th>\n",
       "      <th>T_REC</th>\n",
       "      <th>CDELT1</th>\n",
       "      <th>RSUN_OBS</th>\n",
       "      <th>DSUN_OBS</th>\n",
       "      <th>MEANGBL</th>\n",
       "    </tr>\n",
       "  </thead>\n",
       "  <tbody>\n",
       "    <tr>\n",
       "      <th>0</th>\n",
       "      <td>2019.01.01_00:00:00_TAI</td>\n",
       "      <td>0.03</td>\n",
       "      <td>976.040649</td>\n",
       "      <td>1.470849e+11</td>\n",
       "      <td>26.456</td>\n",
       "    </tr>\n",
       "    <tr>\n",
       "      <th>1</th>\n",
       "      <td>2019.01.01_07:00:00_TAI</td>\n",
       "      <td>0.03</td>\n",
       "      <td>975.708618</td>\n",
       "      <td>1.471350e+11</td>\n",
       "      <td>32.517</td>\n",
       "    </tr>\n",
       "    <tr>\n",
       "      <th>2</th>\n",
       "      <td>2019.01.01_14:00:00_TAI</td>\n",
       "      <td>0.03</td>\n",
       "      <td>975.944519</td>\n",
       "      <td>1.470994e+11</td>\n",
       "      <td>27.528</td>\n",
       "    </tr>\n",
       "    <tr>\n",
       "      <th>3</th>\n",
       "      <td>2019.01.01_21:00:00_TAI</td>\n",
       "      <td>0.03</td>\n",
       "      <td>976.161133</td>\n",
       "      <td>1.470667e+11</td>\n",
       "      <td>26.628</td>\n",
       "    </tr>\n",
       "    <tr>\n",
       "      <th>4</th>\n",
       "      <td>2019.01.02_04:00:00_TAI</td>\n",
       "      <td>0.03</td>\n",
       "      <td>975.816406</td>\n",
       "      <td>1.471187e+11</td>\n",
       "      <td>25.157</td>\n",
       "    </tr>\n",
       "    <tr>\n",
       "      <th>...</th>\n",
       "      <td>...</td>\n",
       "      <td>...</td>\n",
       "      <td>...</td>\n",
       "      <td>...</td>\n",
       "      <td>...</td>\n",
       "    </tr>\n",
       "    <tr>\n",
       "      <th>2867</th>\n",
       "      <td>2021.03.09_14:00:00_TAI</td>\n",
       "      <td>0.03</td>\n",
       "      <td>966.514587</td>\n",
       "      <td>1.485346e+11</td>\n",
       "      <td>7.782</td>\n",
       "    </tr>\n",
       "    <tr>\n",
       "      <th>2868</th>\n",
       "      <td>2021.03.09_21:00:00_TAI</td>\n",
       "      <td>0.03</td>\n",
       "      <td>966.575562</td>\n",
       "      <td>1.485252e+11</td>\n",
       "      <td>8.688</td>\n",
       "    </tr>\n",
       "    <tr>\n",
       "      <th>2869</th>\n",
       "      <td>2021.03.10_04:00:00_TAI</td>\n",
       "      <td>0.03</td>\n",
       "      <td>966.092896</td>\n",
       "      <td>1.485994e+11</td>\n",
       "      <td>9.559</td>\n",
       "    </tr>\n",
       "    <tr>\n",
       "      <th>2870</th>\n",
       "      <td>2021.03.10_11:00:00_TAI</td>\n",
       "      <td>0.03</td>\n",
       "      <td>966.091003</td>\n",
       "      <td>1.485997e+11</td>\n",
       "      <td>9.735</td>\n",
       "    </tr>\n",
       "    <tr>\n",
       "      <th>2871</th>\n",
       "      <td>2021.03.10_18:00:00_TAI</td>\n",
       "      <td>0.03</td>\n",
       "      <td>966.381653</td>\n",
       "      <td>1.485550e+11</td>\n",
       "      <td>11.270</td>\n",
       "    </tr>\n",
       "  </tbody>\n",
       "</table>\n",
       "<p>2872 rows × 5 columns</p>\n",
       "</div>"
      ],
      "text/plain": [
       "                        T_REC  CDELT1    RSUN_OBS      DSUN_OBS  MEANGBL\n",
       "0     2019.01.01_00:00:00_TAI    0.03  976.040649  1.470849e+11   26.456\n",
       "1     2019.01.01_07:00:00_TAI    0.03  975.708618  1.471350e+11   32.517\n",
       "2     2019.01.01_14:00:00_TAI    0.03  975.944519  1.470994e+11   27.528\n",
       "3     2019.01.01_21:00:00_TAI    0.03  976.161133  1.470667e+11   26.628\n",
       "4     2019.01.02_04:00:00_TAI    0.03  975.816406  1.471187e+11   25.157\n",
       "...                       ...     ...         ...           ...      ...\n",
       "2867  2021.03.09_14:00:00_TAI    0.03  966.514587  1.485346e+11    7.782\n",
       "2868  2021.03.09_21:00:00_TAI    0.03  966.575562  1.485252e+11    8.688\n",
       "2869  2021.03.10_04:00:00_TAI    0.03  966.092896  1.485994e+11    9.559\n",
       "2870  2021.03.10_11:00:00_TAI    0.03  966.091003  1.485997e+11    9.735\n",
       "2871  2021.03.10_18:00:00_TAI    0.03  966.381653  1.485550e+11   11.270\n",
       "\n",
       "[2872 rows x 5 columns]"
      ]
     },
     "execution_count": 32,
     "metadata": {},
     "output_type": "execute_result"
    }
   ],
   "source": [
    "keyshmi"
   ]
  },
  {
   "cell_type": "code",
   "execution_count": 33,
   "id": "5a0cba3e-fd89-486c-babc-8def7de7ddeb",
   "metadata": {},
   "outputs": [],
   "source": [
    "def parse_tai_string(tstr,datetime=True):\n",
    "    year   = int(tstr[:4])\n",
    "    month  = int(tstr[5:7])\n",
    "    day    = int(tstr[8:10])\n",
    "    hour   = int(tstr[11:13])\n",
    "    minute = int(tstr[14:16])\n",
    "    if datetime: return dt_obj(year,month,day,hour,minute)\n",
    "    else: return year,month,day,hour,minute"
   ]
  },
  {
   "cell_type": "code",
   "execution_count": 34,
   "id": "c04e8e44-653d-49d4-a708-96059e440d1d",
   "metadata": {},
   "outputs": [],
   "source": [
    "t_rec_hmi = np.array([parse_tai_string(keyshmi.T_REC[i],datetime=True) for i in range(len(keyshmi.T_REC))])"
   ]
  },
  {
   "cell_type": "code",
   "execution_count": 35,
   "id": "ce7df5b4",
   "metadata": {},
   "outputs": [
    {
     "data": {
      "text/plain": [
       "array([datetime.datetime(2019, 1, 1, 0, 0),\n",
       "       datetime.datetime(2019, 1, 1, 7, 0),\n",
       "       datetime.datetime(2019, 1, 1, 14, 0), ...,\n",
       "       datetime.datetime(2021, 3, 10, 4, 0),\n",
       "       datetime.datetime(2021, 3, 10, 11, 0),\n",
       "       datetime.datetime(2021, 3, 10, 18, 0)], dtype=object)"
      ]
     },
     "execution_count": 35,
     "metadata": {},
     "output_type": "execute_result"
    }
   ],
   "source": [
    "t_rec_hmi"
   ]
  },
  {
   "cell_type": "markdown",
   "id": "3d148951-557d-4827-8d36-ea9ef3ebd14f",
   "metadata": {},
   "source": [
    "Plot variation in RSUN_OBS over time (this is not smooth because it is overplotting many HARPs; otherwise it would be totally smooth)."
   ]
  },
  {
   "cell_type": "code",
   "execution_count": 37,
   "id": "0b2540a4-22f1-40c6-b04d-c866ba9168ab",
   "metadata": {},
   "outputs": [
    {
     "data": {
      "image/png": "[encoded data removed]",
      "text/plain": [
       "<Figure size 1000x500 with 1 Axes>"
      ]
     },
     "metadata": {},
     "output_type": "display_data"
    }
   ],
   "source": [
    "fig, ax = plt.subplots(figsize=(10,5))\n",
    "ax.plot(t_rec_hmi,keyshmi['RSUN_OBS'])\n",
    "ax.set_xlabel('Date')\n",
    "ax.set_ylabel('RSUN_OBS [arcsec]')\n",
    "ax.xaxis.labelpad=15\n",
    "ax.yaxis.labelpad=15\n",
    "ax.set_title(\"Angular Radius of the Sun over time as observed by SDO\")\n",
    "plt.show()"
   ]
  },
  {
   "cell_type": "code",
   "execution_count": 38,
   "id": "4be1e9f9-e45d-4bb7-9ca8-f555bb0db0c8",
   "metadata": {},
   "outputs": [
    {
     "name": "stdout",
     "output_type": "stream",
     "text": [
      "The keyword RSUN_OBS varies by 3.3429064757143063 percent.\n"
     ]
    }
   ],
   "source": [
    "print(\"The keyword RSUN_OBS varies by\",(np.nanmax(keyshmi['RSUN_OBS'])-np.nanmin(keyshmi['RSUN_OBS']))/np.nanmax(keyshmi['RSUN_OBS'])*100,\"percent.\")"
   ]
  },
  {
   "cell_type": "markdown",
   "id": "7428dae1-5813-45dc-b441-d6ba067b5e32",
   "metadata": {},
   "source": [
    "Plot variation in DSUN_OBS over time."
   ]
  },
  {
   "cell_type": "code",
   "execution_count": 41,
   "id": "eec51568-a8ed-4163-9529-bcaf1bcde2e6",
   "metadata": {},
   "outputs": [
    {
     "data": {
      "image/png": "[encoded data removed]",
      "text/plain": [
       "<Figure size 1000x500 with 1 Axes>"
      ]
     },
     "metadata": {},
     "output_type": "display_data"
    }
   ],
   "source": [
    "fig, ax = plt.subplots(figsize=(10,5))\n",
    "ax.plot(t_rec_hmi,keyshmi['DSUN_OBS'])\n",
    "ax.set_xlabel('Date')\n",
    "ax.set_ylabel('DSUN_OBS [m]')\n",
    "ax.xaxis.labelpad=15\n",
    "ax.yaxis.labelpad=15\n",
    "ax.set_title(\"Distance from SDO to Sun\")\n",
    "plt.show()"
   ]
  },
  {
   "cell_type": "code",
   "execution_count": 42,
   "id": "edda8d39-791f-473f-a729-2636fac48261",
   "metadata": {},
   "outputs": [
    {
     "name": "stdout",
     "output_type": "stream",
     "text": [
      "The keyword RSUN_OBS varies by 3.342880394955568 percent.\n"
     ]
    }
   ],
   "source": [
    "print(\"The keyword RSUN_OBS varies by\",(np.nanmax(keyshmi['DSUN_OBS'])-np.nanmin(keyshmi['DSUN_OBS']))/np.nanmax(keyshmi['DSUN_OBS'])*100,\"percent.\")"
   ]
  },
  {
   "cell_type": "markdown",
   "id": "91927260-e19e-409d-aaba-a5063ea24715",
   "metadata": {},
   "source": [
    "RSUN_OBS and DSUN_OBS vary inversely; that is, when DSUN_OBS is at its maximum value, RSUN_OBS is at its minimum value. So we will evaluate how much value of MEANGB\\* varies between two cases:\n",
    "\n",
    "1. When DSUN_OBS is at maximum and RSUN_OBS is at minimum, and \n",
    "2. When DSUN_OBS is at minimum and RSUN_OBS is at maximum."
   ]
  },
  {
   "cell_type": "code",
   "execution_count": 43,
   "id": "8c2f4152-f9c3-4087-8629-b612102a726b",
   "metadata": {},
   "outputs": [],
   "source": [
    "# Grab data for when DSUN_OBS is at maximum and RSUN_OBS is at minimum\n",
    "dsun_obs_max = np.nanmax(keyshmi['DSUN_OBS'])\n",
    "rsun_obs_min = np.nanmin(keyshmi['RSUN_OBS'])\n",
    "cdelt1 = 0.03\n",
    "rsun_ref = 696000000.\n",
    "\n",
    "# Grab data for when DSUN_OBS is at minimum and RSUN_OBS is at maximum\n",
    "dsun_obs_min = np.nanmin(keyshmi['DSUN_OBS'])\n",
    "rsun_obs_max = np.nanmax(keyshmi['RSUN_OBS'])\n",
    "cdelt1 = 0.03\n",
    "rsun_ref = 696000000."
   ]
  },
  {
   "cell_type": "markdown",
   "id": "9158d340-ce23-48e0-ba51-375ce3d85385",
   "metadata": {},
   "source": [
    "Find the value of the factor for Case 1: when DSUN_OBS is at maximum and RSUN_OBS is at minimum."
   ]
  },
  {
   "cell_type": "code",
   "execution_count": 44,
   "id": "e2316312-1c20-43a0-9131-5ea579ad4cdf",
   "metadata": {},
   "outputs": [
    {
     "name": "stdout",
     "output_type": "stream",
     "text": [
      "2.7440603945984874\n"
     ]
    }
   ],
   "source": [
    "cdelt1_arcsec_case1 = (math.atan((rsun_ref*cdelt1*radsindeg)/(dsun_obs_max)))*(1/radsindeg)*(3600.)\n",
    "factor_case1 = (1/cdelt1_arcsec_case1)*(rsun_obs_min/rsun_ref)*(1000000)\n",
    "print(factor_case1)"
   ]
  },
  {
   "cell_type": "markdown",
   "id": "fb652a8b-e94b-45d5-9c1e-f9873f8ec86f",
   "metadata": {},
   "source": [
    "Find the value of the factor for Case 2: when DSUN_OBS is at minimum and RSUN_OBS is at maximum."
   ]
  },
  {
   "cell_type": "code",
   "execution_count": 45,
   "id": "ab5d22cf-3e04-489e-8fc2-7cd7cb9d0fb7",
   "metadata": {},
   "outputs": [
    {
     "name": "stdout",
     "output_type": "stream",
     "text": [
      "2.744061135022291\n"
     ]
    }
   ],
   "source": [
    "cdelt1_arcsec_case2 = (math.atan((rsun_ref*cdelt1*radsindeg)/(dsun_obs_min)))*(1/radsindeg)*(3600.)\n",
    "factor_case2 = (1/cdelt1_arcsec_case2)*(rsun_obs_max/rsun_ref)*(1000000)\n",
    "print(factor_case2)"
   ]
  },
  {
   "cell_type": "code",
   "execution_count": 51,
   "id": "e488d533",
   "metadata": {},
   "outputs": [
    {
     "name": "stdout",
     "output_type": "stream",
     "text": [
      "For this case, the absolute difference in the factor is 7.404238036023969e-07\n",
      "For this case, the relative difference in the factor is 2.698278088411885e-07\n"
     ]
    }
   ],
   "source": [
    "print(f\"For this case, the absolute difference in the factor is {abs(factor_case1-factor_case2)}\")\n",
    "print(f\"For this case, the relative difference in the factor is {abs(factor_case1-factor_case2)/factor_case1}\")"
   ]
  },
  {
   "cell_type": "code",
   "execution_count": null,
   "id": "e7c8b0d9",
   "metadata": {},
   "outputs": [],
   "source": []
  }
 ],
 "metadata": {
  "kernelspec": {
   "display_name": "Python 3",
   "language": "python",
   "name": "python3"
  },
  "language_info": {
   "codemirror_mode": {
    "name": "ipython",
    "version": 3
   },
   "file_extension": ".py",
   "mimetype": "text/x-python",
   "name": "python",
   "nbconvert_exporter": "python",
   "pygments_lexer": "ipython3",
   "version": "3.10.13"
  }
 },
 "nbformat": 4,
 "nbformat_minor": 5
}
